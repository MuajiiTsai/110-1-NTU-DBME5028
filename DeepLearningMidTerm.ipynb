{
  "nbformat": 4,
  "nbformat_minor": 0,
  "metadata": {
    "colab": {
      "name": "肇元別當我",
      "provenance": [],
      "collapsed_sections": [],
      "include_colab_link": true
    },
    "kernelspec": {
      "name": "python3",
      "display_name": "Python 3"
    },
    "language_info": {
      "name": "python"
    },
    "widgets": {
      "application/vnd.jupyter.widget-state+json": {
        "3618014e46934f0e9c15eb8ad1471bb1": {
          "model_module": "@jupyter-widgets/controls",
          "model_name": "HBoxModel",
          "model_module_version": "1.5.0",
          "state": {
            "_view_name": "HBoxView",
            "_dom_classes": [],
            "_model_name": "HBoxModel",
            "_view_module": "@jupyter-widgets/controls",
            "_model_module_version": "1.5.0",
            "_view_count": null,
            "_view_module_version": "1.5.0",
            "box_style": "",
            "layout": "IPY_MODEL_4f4cbea1fe844b67bf563b1360fae85a",
            "_model_module": "@jupyter-widgets/controls",
            "children": [
              "IPY_MODEL_2a3fdaa8393e49898fd542a365eb9b4d",
              "IPY_MODEL_bddc4c789aa449a4b9f5cd0add14462d",
              "IPY_MODEL_c26bc6b34f1b41d691eb4e3849685a78"
            ]
          }
        },
        "4f4cbea1fe844b67bf563b1360fae85a": {
          "model_module": "@jupyter-widgets/base",
          "model_name": "LayoutModel",
          "model_module_version": "1.2.0",
          "state": {
            "_view_name": "LayoutView",
            "grid_template_rows": null,
            "right": null,
            "justify_content": null,
            "_view_module": "@jupyter-widgets/base",
            "overflow": null,
            "_model_module_version": "1.2.0",
            "_view_count": null,
            "flex_flow": null,
            "width": null,
            "min_width": null,
            "border": null,
            "align_items": null,
            "bottom": null,
            "_model_module": "@jupyter-widgets/base",
            "top": null,
            "grid_column": null,
            "overflow_y": null,
            "overflow_x": null,
            "grid_auto_flow": null,
            "grid_area": null,
            "grid_template_columns": null,
            "flex": null,
            "_model_name": "LayoutModel",
            "justify_items": null,
            "grid_row": null,
            "max_height": null,
            "align_content": null,
            "visibility": null,
            "align_self": null,
            "height": null,
            "min_height": null,
            "padding": null,
            "grid_auto_rows": null,
            "grid_gap": null,
            "max_width": null,
            "order": null,
            "_view_module_version": "1.2.0",
            "grid_template_areas": null,
            "object_position": null,
            "object_fit": null,
            "grid_auto_columns": null,
            "margin": null,
            "display": null,
            "left": null
          }
        },
        "2a3fdaa8393e49898fd542a365eb9b4d": {
          "model_module": "@jupyter-widgets/controls",
          "model_name": "HTMLModel",
          "model_module_version": "1.5.0",
          "state": {
            "_view_name": "HTMLView",
            "style": "IPY_MODEL_637082cb3fcb434d80c15d88e61d8e04",
            "_dom_classes": [],
            "description": "",
            "_model_name": "HTMLModel",
            "placeholder": "​",
            "_view_module": "@jupyter-widgets/controls",
            "_model_module_version": "1.5.0",
            "value": "100%",
            "_view_count": null,
            "_view_module_version": "1.5.0",
            "description_tooltip": null,
            "_model_module": "@jupyter-widgets/controls",
            "layout": "IPY_MODEL_9264eb6cb88e452cae0f65b11b8599e2"
          }
        },
        "bddc4c789aa449a4b9f5cd0add14462d": {
          "model_module": "@jupyter-widgets/controls",
          "model_name": "FloatProgressModel",
          "model_module_version": "1.5.0",
          "state": {
            "_view_name": "ProgressView",
            "style": "IPY_MODEL_411b2daa1edc4ffa9ea4a2d07be2e2fd",
            "_dom_classes": [],
            "description": "",
            "_model_name": "FloatProgressModel",
            "bar_style": "success",
            "max": 1768,
            "_view_module": "@jupyter-widgets/controls",
            "_model_module_version": "1.5.0",
            "value": 1768,
            "_view_count": null,
            "_view_module_version": "1.5.0",
            "orientation": "horizontal",
            "min": 0,
            "description_tooltip": null,
            "_model_module": "@jupyter-widgets/controls",
            "layout": "IPY_MODEL_d197aac28ffc4dbe9aea753f5fa3ddb1"
          }
        },
        "c26bc6b34f1b41d691eb4e3849685a78": {
          "model_module": "@jupyter-widgets/controls",
          "model_name": "HTMLModel",
          "model_module_version": "1.5.0",
          "state": {
            "_view_name": "HTMLView",
            "style": "IPY_MODEL_ec6c6a91b2a7408086ec044f3a5fe39d",
            "_dom_classes": [],
            "description": "",
            "_model_name": "HTMLModel",
            "placeholder": "​",
            "_view_module": "@jupyter-widgets/controls",
            "_model_module_version": "1.5.0",
            "value": " 1768/1768 [35:33&lt;00:00,  1.24s/it]",
            "_view_count": null,
            "_view_module_version": "1.5.0",
            "description_tooltip": null,
            "_model_module": "@jupyter-widgets/controls",
            "layout": "IPY_MODEL_8220c85b917540cba0cc38eb504c38d4"
          }
        },
        "637082cb3fcb434d80c15d88e61d8e04": {
          "model_module": "@jupyter-widgets/controls",
          "model_name": "DescriptionStyleModel",
          "model_module_version": "1.5.0",
          "state": {
            "_view_name": "StyleView",
            "_model_name": "DescriptionStyleModel",
            "description_width": "",
            "_view_module": "@jupyter-widgets/base",
            "_model_module_version": "1.5.0",
            "_view_count": null,
            "_view_module_version": "1.2.0",
            "_model_module": "@jupyter-widgets/controls"
          }
        },
        "9264eb6cb88e452cae0f65b11b8599e2": {
          "model_module": "@jupyter-widgets/base",
          "model_name": "LayoutModel",
          "model_module_version": "1.2.0",
          "state": {
            "_view_name": "LayoutView",
            "grid_template_rows": null,
            "right": null,
            "justify_content": null,
            "_view_module": "@jupyter-widgets/base",
            "overflow": null,
            "_model_module_version": "1.2.0",
            "_view_count": null,
            "flex_flow": null,
            "width": null,
            "min_width": null,
            "border": null,
            "align_items": null,
            "bottom": null,
            "_model_module": "@jupyter-widgets/base",
            "top": null,
            "grid_column": null,
            "overflow_y": null,
            "overflow_x": null,
            "grid_auto_flow": null,
            "grid_area": null,
            "grid_template_columns": null,
            "flex": null,
            "_model_name": "LayoutModel",
            "justify_items": null,
            "grid_row": null,
            "max_height": null,
            "align_content": null,
            "visibility": null,
            "align_self": null,
            "height": null,
            "min_height": null,
            "padding": null,
            "grid_auto_rows": null,
            "grid_gap": null,
            "max_width": null,
            "order": null,
            "_view_module_version": "1.2.0",
            "grid_template_areas": null,
            "object_position": null,
            "object_fit": null,
            "grid_auto_columns": null,
            "margin": null,
            "display": null,
            "left": null
          }
        },
        "411b2daa1edc4ffa9ea4a2d07be2e2fd": {
          "model_module": "@jupyter-widgets/controls",
          "model_name": "ProgressStyleModel",
          "model_module_version": "1.5.0",
          "state": {
            "_view_name": "StyleView",
            "_model_name": "ProgressStyleModel",
            "description_width": "",
            "_view_module": "@jupyter-widgets/base",
            "_model_module_version": "1.5.0",
            "_view_count": null,
            "_view_module_version": "1.2.0",
            "bar_color": null,
            "_model_module": "@jupyter-widgets/controls"
          }
        },
        "d197aac28ffc4dbe9aea753f5fa3ddb1": {
          "model_module": "@jupyter-widgets/base",
          "model_name": "LayoutModel",
          "model_module_version": "1.2.0",
          "state": {
            "_view_name": "LayoutView",
            "grid_template_rows": null,
            "right": null,
            "justify_content": null,
            "_view_module": "@jupyter-widgets/base",
            "overflow": null,
            "_model_module_version": "1.2.0",
            "_view_count": null,
            "flex_flow": null,
            "width": null,
            "min_width": null,
            "border": null,
            "align_items": null,
            "bottom": null,
            "_model_module": "@jupyter-widgets/base",
            "top": null,
            "grid_column": null,
            "overflow_y": null,
            "overflow_x": null,
            "grid_auto_flow": null,
            "grid_area": null,
            "grid_template_columns": null,
            "flex": null,
            "_model_name": "LayoutModel",
            "justify_items": null,
            "grid_row": null,
            "max_height": null,
            "align_content": null,
            "visibility": null,
            "align_self": null,
            "height": null,
            "min_height": null,
            "padding": null,
            "grid_auto_rows": null,
            "grid_gap": null,
            "max_width": null,
            "order": null,
            "_view_module_version": "1.2.0",
            "grid_template_areas": null,
            "object_position": null,
            "object_fit": null,
            "grid_auto_columns": null,
            "margin": null,
            "display": null,
            "left": null
          }
        },
        "ec6c6a91b2a7408086ec044f3a5fe39d": {
          "model_module": "@jupyter-widgets/controls",
          "model_name": "DescriptionStyleModel",
          "model_module_version": "1.5.0",
          "state": {
            "_view_name": "StyleView",
            "_model_name": "DescriptionStyleModel",
            "description_width": "",
            "_view_module": "@jupyter-widgets/base",
            "_model_module_version": "1.5.0",
            "_view_count": null,
            "_view_module_version": "1.2.0",
            "_model_module": "@jupyter-widgets/controls"
          }
        },
        "8220c85b917540cba0cc38eb504c38d4": {
          "model_module": "@jupyter-widgets/base",
          "model_name": "LayoutModel",
          "model_module_version": "1.2.0",
          "state": {
            "_view_name": "LayoutView",
            "grid_template_rows": null,
            "right": null,
            "justify_content": null,
            "_view_module": "@jupyter-widgets/base",
            "overflow": null,
            "_model_module_version": "1.2.0",
            "_view_count": null,
            "flex_flow": null,
            "width": null,
            "min_width": null,
            "border": null,
            "align_items": null,
            "bottom": null,
            "_model_module": "@jupyter-widgets/base",
            "top": null,
            "grid_column": null,
            "overflow_y": null,
            "overflow_x": null,
            "grid_auto_flow": null,
            "grid_area": null,
            "grid_template_columns": null,
            "flex": null,
            "_model_name": "LayoutModel",
            "justify_items": null,
            "grid_row": null,
            "max_height": null,
            "align_content": null,
            "visibility": null,
            "align_self": null,
            "height": null,
            "min_height": null,
            "padding": null,
            "grid_auto_rows": null,
            "grid_gap": null,
            "max_width": null,
            "order": null,
            "_view_module_version": "1.2.0",
            "grid_template_areas": null,
            "object_position": null,
            "object_fit": null,
            "grid_auto_columns": null,
            "margin": null,
            "display": null,
            "left": null
          }
        }
      }
    },
    "accelerator": "GPU"
  },
  "cells": [
    {
      "cell_type": "markdown",
      "metadata": {
        "id": "view-in-github",
        "colab_type": "text"
      },
      "source": [
        "<a href=\"https://colab.research.google.com/github/MuajiiTsai/110-1-NTU-DBME5028/blob/main_/DeepLearningMidTerm.ipynb\" target=\"_parent\"><img src=\"https://colab.research.google.com/assets/colab-badge.svg\" alt=\"Open In Colab\"/></a>"
      ]
    },
    {
      "cell_type": "code",
      "metadata": {
        "id": "fmvjDushgYxA"
      },
      "source": [
        "import os\n",
        "import numpy as np\n",
        "import pandas as pd\n",
        "import matplotlib.pyplot as plt\n",
        "import torch\n",
        "import torch.nn as nn\n",
        "from sklearn import metrics\n",
        "from PIL import Image\n",
        "from torchvision import models, transforms\n",
        "from torch.utils.data import Dataset, DataLoader\n",
        "from tqdm.notebook import tqdm\n",
        "from google.colab import drive\n",
        "\n",
        "model_path = \"/content/drive/My Drive/Deep_Learning/Midterm/model.pt\""
      ],
      "execution_count": 1,
      "outputs": []
    },
    {
      "cell_type": "markdown",
      "metadata": {
        "id": "5ZqrJ6FPY3Nw"
      },
      "source": [
        "##Connect Google Drive"
      ]
    },
    {
      "cell_type": "code",
      "metadata": {
        "id": "iuMwhiH_CZlp",
        "colab": {
          "base_uri": "https://localhost:8080/"
        },
        "outputId": "9ece1409-f1f5-4eee-923b-6e71bf5ee13d"
      },
      "source": [
        "drive.mount('/content/drive')\n",
        "train_path = '/content/drive/My Drive/Deep_Learning/Midterm/train/'\n",
        "os.chdir(train_path)\n",
        "training_data_file = os.listdir(train_path)\n",
        "print(training_data_file[999])\n",
        "type(training_data_file)\n",
        "# os.chdir(test_path)\n",
        "# testing_data_file = os.listdir(test_path)\n",
        "# print(len(training_data_file))"
      ],
      "execution_count": 2,
      "outputs": [
        {
          "output_type": "stream",
          "name": "stdout",
          "text": [
            "Mounted at /content/drive\n",
            "WRIST_f810f6dbf6_image3.png\n"
          ]
        },
        {
          "output_type": "execute_result",
          "data": {
            "text/plain": [
              "list"
            ]
          },
          "metadata": {},
          "execution_count": 2
        }
      ]
    },
    {
      "cell_type": "markdown",
      "metadata": {
        "id": "HJSbTsAxmVmg"
      },
      "source": [
        "##Label preprocessing\n",
        "跑一次就好"
      ]
    },
    {
      "cell_type": "markdown",
      "metadata": {
        "id": "xIKTjVnsky34"
      },
      "source": [
        "##Dataset"
      ]
    },
    {
      "cell_type": "code",
      "metadata": {
        "id": "5uwjxjwzk7FH"
      },
      "source": [
        "from torchvision.io import read_image, ImageReadMode\n",
        "#train_dataset\n",
        "\n",
        "Resize = transforms.Compose([\n",
        "  transforms.Resize([512,512])\n",
        "])\n",
        "\n",
        "class BoneDataset(Dataset):\n",
        "    def __init__(self, annotations_file, directory, transform=None, target_transform=None):\n",
        "        self.dir = directory\n",
        "        self.img_labels = pd.read_csv(annotations_file, dtype={'id':str, 'label':np.float64})\n",
        "        self.img_dir = os.listdir(directory)\n",
        "        self.transform = transform\n",
        "        self.target_transform = target_transform\n",
        "        self.item = self.classification()\n",
        "    def __len__(self):\n",
        "        return len(self.item)\n",
        "    def __getitem__(self, idx):\n",
        "        # img_path = self.img_dir[idx]\n",
        "        # image = read_image(os.path.join(self.dir, img_path), mode=ImageReadMode.RGB)\n",
        "        # \n",
        "        # label = getlabel(img_path)\n",
        "        img_path = self.item.iloc[idx, 0]\n",
        "        image = read_image(os.path.join(self.dir, img_path), mode=ImageReadMode.RGB)\n",
        "        image = image.type(torch.FloatTensor)\n",
        "        label = self.item.iloc[idx, 1]\n",
        "        if self.transform:\n",
        "            image = self.transform(image)\n",
        "        if self.target_transform:\n",
        "            label = self.target_transform(label)\n",
        "        return image, label\n",
        "    def classification(self):\n",
        "        '''\n",
        "        img list -> img dataframe(pandas)\n",
        "        pair the img and the label\n",
        "        del the img labeled with \"nan\"\n",
        "        '''\n",
        "        img_with_labels = pd.DataFrame(columns=['img_list', 'label'])\n",
        "        # add the row\n",
        "        self.img_labels.set_index('id', inplace=True)\n",
        "        for i in range(len(self.img_dir)):\n",
        "            j = self.img_labels.loc[self.img_dir[i][:-11]][0]\n",
        "            if not np.isnan(j):\n",
        "                new = pd.DataFrame({\n",
        "                    'img_list': [self.img_dir[i]],\n",
        "                    'label': [j]\n",
        "                })\n",
        "                img_with_labels = img_with_labels.append(new, ignore_index=True)\n",
        "\n",
        "        self.img_labels.reset_index(inplace=True)\n",
        "        return img_with_labels   # The dataframe contained all labeled img"
      ],
      "execution_count": 9,
      "outputs": []
    },
    {
      "cell_type": "code",
      "metadata": {
        "id": "g_PvYiKyiXZ_"
      },
      "source": [
        "train_path = '/content/drive/My Drive/Deep_Learning/Midterm/train/'\n",
        "test_path = '/content/drive/My Drive/Deep_Learning/Midterm/test/'\n",
        "label_file = '/content/drive/My Drive/Deep_Learning/Midterm/train.csv'\n",
        "\n",
        "#model\n",
        "batch_size = 4\n",
        "learning_rate = 1e-4\n",
        "num_show = 3\n",
        "transform = transforms.Compose([\n",
        "  transforms.Grayscale(num_output_channels=3),\n",
        "  # transforms.PILToTensor(),\n",
        "  transforms.Resize([512,512]),\n",
        "  # transforms.ToPILImage(mode='RGB')\n",
        "])\n",
        "\n",
        "\n",
        "\n",
        "train_dataset = BoneDataset(label_file, train_path, transform=transform)\n",
        "# test_dataset = ...\n",
        "\n",
        "\n",
        "train_dataloader = torch.utils.data.DataLoader(\n",
        "    train_dataset,\n",
        "    batch_size=batch_size,\n",
        "    shuffle = True\n",
        ")\n",
        "'''\n",
        "test_dataloader = torch.utils.data.DataLoader(\n",
        "    #test_dataset,\n",
        "    batch_size=1,\n",
        "    shuffle = False\n",
        ")\n",
        "'''\n",
        "model = models.efficientnet_b0(pretrained=True)\n",
        "# model = models.resnet18(pretrained=True)\n",
        "model.conv1 = nn.Conv2d(\n",
        "    1,\n",
        "    64,\n",
        "    kernel_size=(7, 7),\n",
        "    stride=(2, 2),\n",
        "    padding=(3, 3),\n",
        "    bias=False\n",
        ")\n",
        "model = nn.Sequential(model, nn.Linear(1000,1))\n",
        "model = model.cuda()\n",
        "optimizer = torch.optim.AdamW(model.parameters(), lr=learning_rate)\n",
        "loss_fn = nn.SmoothL1Loss()\n",
        "# print(train_dataloader.dataset)"
      ],
      "execution_count": 10,
      "outputs": []
    },
    {
      "cell_type": "code",
      "metadata": {
        "colab": {
          "base_uri": "https://localhost:8080/"
        },
        "id": "TWDJQWqs18t3",
        "outputId": "28573150-8ca1-4999-a79d-bf57adc327ff"
      },
      "source": [
        "train_features, train_labels = next(iter(train_dataloader))\n",
        "print(f\"feature batch size: {train_features.size()}\")\n",
        "print(f\"labels batch size: {train_labels.size()}\")\n",
        "img = train_features[1].squeeze()\n",
        "label = train_labels[1]\n",
        "# print(img)\n",
        "# plt.imshow(img)\n",
        "# plt.show()\n",
        "print(f\"Label: {label}\")"
      ],
      "execution_count": 5,
      "outputs": [
        {
          "output_type": "stream",
          "name": "stdout",
          "text": [
            "feature batch size: torch.Size([4, 3, 512, 512])\n",
            "labels batch size: torch.Size([4])\n",
            "Label: 0.0\n"
          ]
        }
      ]
    },
    {
      "cell_type": "code",
      "metadata": {
        "id": "b-b3XcKYzZwP",
        "colab": {
          "base_uri": "https://localhost:8080/",
          "height": 156,
          "referenced_widgets": [
            "3618014e46934f0e9c15eb8ad1471bb1",
            "4f4cbea1fe844b67bf563b1360fae85a",
            "2a3fdaa8393e49898fd542a365eb9b4d",
            "bddc4c789aa449a4b9f5cd0add14462d",
            "c26bc6b34f1b41d691eb4e3849685a78",
            "637082cb3fcb434d80c15d88e61d8e04",
            "9264eb6cb88e452cae0f65b11b8599e2",
            "411b2daa1edc4ffa9ea4a2d07be2e2fd",
            "d197aac28ffc4dbe9aea753f5fa3ddb1",
            "ec6c6a91b2a7408086ec044f3a5fe39d",
            "8220c85b917540cba0cc38eb504c38d4"
          ]
        },
        "outputId": "ce3eca5f-6546-4ab4-d404-7af715530ccb"
      },
      "source": [
        "num_epochs = 1\n",
        "\n",
        "#train the model\n",
        "best_test_loss = np.inf\n",
        "\n",
        "for idx_epoch in range(num_epochs):\n",
        "  print(f\"Epoch{idx_epoch}\")\n",
        "\n",
        "  #training phase\n",
        "  model.train()\n",
        "\n",
        "  train_losses = []\n",
        "  for image_batch, label_batch in tqdm(train_dataloader):\n",
        "    optimizer.zero_grad()\n",
        "    image_batch = image_batch.cuda()\n",
        "    label_batch = label_batch.cuda()\n",
        "    output_batch = model(image_batch)\n",
        "    # print(output_batch.shape)\n",
        "    loss = loss_fn(output_batch, label_batch)\n",
        "    loss.backward()\n",
        "    optimizer.step()\n",
        "    \n",
        "    loss = loss.detach().cpu().numpy()\n",
        "    train_losses.append(loss)\n",
        "\n",
        "  train_loss = np.mean(train_losses)\n",
        "  print(f\"Training loss: {train_loss}\")\n",
        "\n",
        "  # y = np.array([1,1,2,2])\n",
        "  # y_pred = np.array([0.1,0.4,0.35,2])\n",
        "  # fpr, tpr, thresholds = metrics.roc_curve(y, y_pred, pos_label=2)\n",
        "  # print(metrics.auc(fpr, tpr))\n",
        "\n",
        "  '''\n",
        "  #testing phase\n",
        "  model.eval()\n",
        "\n",
        "  test_losses = []\n",
        "  test_accuracies = []\n",
        "  for image_batch, label_batch in tqdm(test_dataloader):\n",
        "    image_batch = image_batch.cuda()\n",
        "    label_batch = label_batch.cuda()\n",
        "    output_batch = model(image_batch)\n",
        "    loss = loss_fn(output_batch, label_batch)\n",
        "    \n",
        "    loss = loss.detach().cpu().numpy()\n",
        "    train_losses.append(loss)\n",
        "    \n",
        "    ##### AUC #####\n",
        "    \n",
        "\n",
        "    accuracy = np.mean(is_correct_batch)\n",
        "    test_accuracies.append(accuracy)\n",
        "    \n",
        "    \n",
        "\n",
        "    #####\n",
        "    test_loss = np.mean(test_losses)\n",
        "    test_accuracy = np.mean(test_accuracies)\n",
        "\n",
        "    if test_loss < best_test_loss:\n",
        "      best_test_loss = test_loss\n",
        "      torch.save(model.state_dict(), model_path)\n",
        "      print(\"The model is saved\")\n",
        "    '''\n",
        "  torch.save(model.state_dict(), model_path)\n",
        "  print(\"The model is saved\")"
      ],
      "execution_count": 11,
      "outputs": [
        {
          "output_type": "stream",
          "name": "stdout",
          "text": [
            "Epoch0\n"
          ]
        },
        {
          "output_type": "display_data",
          "data": {
            "application/vnd.jupyter.widget-view+json": {
              "model_id": "3618014e46934f0e9c15eb8ad1471bb1",
              "version_minor": 0,
              "version_major": 2
            },
            "text/plain": [
              "  0%|          | 0/1768 [00:00<?, ?it/s]"
            ]
          },
          "metadata": {}
        },
        {
          "output_type": "stream",
          "name": "stderr",
          "text": [
            "/usr/local/lib/python3.7/dist-packages/torch/nn/modules/loss.py:912: UserWarning: Using a target size (torch.Size([4])) that is different to the input size (torch.Size([4, 1])). This will likely lead to incorrect results due to broadcasting. Please ensure they have the same size.\n",
            "  return F.smooth_l1_loss(input, target, reduction=self.reduction, beta=self.beta)\n"
          ]
        },
        {
          "output_type": "stream",
          "name": "stdout",
          "text": [
            "Training loss: 0.12012789654461592\n",
            "The model is saved\n"
          ]
        }
      ]
    },
    {
      "cell_type": "markdown",
      "metadata": {
        "id": "i8Tbg39JkfoQ"
      },
      "source": [
        "#Playground"
      ]
    },
    {
      "cell_type": "markdown",
      "metadata": {
        "id": "8DcJgLMNZQ6b"
      },
      "source": [
        "##Import CSV"
      ]
    },
    {
      "cell_type": "code",
      "metadata": {
        "colab": {
          "base_uri": "https://localhost:8080/"
        },
        "id": "Nqo420MKZUBd",
        "outputId": "8aa67ee9-a3fb-4a3c-e08e-463ea600eab8"
      },
      "source": [
        "df = pd.read_csv (r'/content/drive/My Drive/Deep_Learning/Midterm/train.csv')\n",
        "# def a():\n",
        "#     df = pd.read_csv (r'/content/drive/My Drive/Deep_Learning/Midterm/train.csv')\n",
        "#     return df\n",
        "# x = a()\n",
        "# sorted_df = df.sort_values(by=\"label\",kind='mergesort')\n",
        "# i = df.loc[\"FOREARM_00f72d1153\"]\n",
        "df.set_index('id', inplace=True)\n",
        "j = df.loc['FOREARM_000b20cbe3'][0]\n",
        "print(type(j))\n",
        "print(type(\"str\"))\n",
        "# j.reset_index(inplace=True)\n",
        "df.reset_index(inplace=True)\n",
        "# print(f\"j0: {j[0]}\\n\")\n",
        "# print(j['id'][0])\n",
        "print(j)\n",
        "print(df)"
      ],
      "execution_count": null,
      "outputs": [
        {
          "output_type": "stream",
          "name": "stdout",
          "text": [
            "<class 'numpy.float64'>\n",
            "<class 'str'>\n",
            "nan\n",
            "                      id  label\n",
            "0     FOREARM_000b20cbe3    NaN\n",
            "1     FOREARM_000be2e9ab    1.0\n",
            "2     FOREARM_00192d1b21    NaN\n",
            "3     FOREARM_0055c4c62a    1.0\n",
            "4     FOREARM_00f72d1153    0.0\n",
            "...                  ...    ...\n",
            "3995    WRIST_ff39824aa4    0.0\n",
            "3996    WRIST_ff5128afcd    1.0\n",
            "3997    WRIST_ff60656c01    0.0\n",
            "3998    WRIST_ffaf60a955    0.0\n",
            "3999    WRIST_fff3b05bc0    0.0\n",
            "\n",
            "[4000 rows x 2 columns]\n"
          ]
        }
      ]
    },
    {
      "cell_type": "markdown",
      "metadata": {
        "id": "XOKMkBUuZHid"
      },
      "source": [
        "##Import Data"
      ]
    },
    {
      "cell_type": "code",
      "metadata": {
        "colab": {
          "base_uri": "https://localhost:8080/",
          "height": 375
        },
        "id": "-ndzJ9ReYUja",
        "outputId": "f461c8e8-0c58-425b-fcc2-93f21bd03b01"
      },
      "source": [
        "train_dataset = torch.tensor([])\n",
        "transform1 = transforms.Compose([\n",
        "  transforms.PILToTensor(),\n",
        "])\n",
        "print(train_dataset)\n",
        "for i in range(100):\n",
        "  img = Image.open(f\"{train_path}/{training_data_file[i]}\")\n",
        "  img_tensor = transform1(img)\n",
        "  a = torch.cat((train_dataset, img_tensor),0)\n",
        "  # print(a.shape)"
      ],
      "execution_count": null,
      "outputs": [
        {
          "output_type": "stream",
          "name": "stdout",
          "text": [
            "tensor([])\n"
          ]
        },
        {
          "output_type": "error",
          "ename": "KeyboardInterrupt",
          "evalue": "ignored",
          "traceback": [
            "\u001b[0;31m---------------------------------------------------------------------------\u001b[0m",
            "\u001b[0;31mKeyboardInterrupt\u001b[0m                         Traceback (most recent call last)",
            "\u001b[0;32m<ipython-input-10-bb3adca3a2c5>\u001b[0m in \u001b[0;36m<module>\u001b[0;34m()\u001b[0m\n\u001b[1;32m      5\u001b[0m \u001b[0mprint\u001b[0m\u001b[0;34m(\u001b[0m\u001b[0mtrain_dataset\u001b[0m\u001b[0;34m)\u001b[0m\u001b[0;34m\u001b[0m\u001b[0;34m\u001b[0m\u001b[0m\n\u001b[1;32m      6\u001b[0m \u001b[0;32mfor\u001b[0m \u001b[0mi\u001b[0m \u001b[0;32min\u001b[0m \u001b[0mrange\u001b[0m\u001b[0;34m(\u001b[0m\u001b[0;36m100\u001b[0m\u001b[0;34m)\u001b[0m\u001b[0;34m:\u001b[0m\u001b[0;34m\u001b[0m\u001b[0;34m\u001b[0m\u001b[0m\n\u001b[0;32m----> 7\u001b[0;31m   \u001b[0mimg\u001b[0m \u001b[0;34m=\u001b[0m \u001b[0mImage\u001b[0m\u001b[0;34m.\u001b[0m\u001b[0mopen\u001b[0m\u001b[0;34m(\u001b[0m\u001b[0;34mf\"{train_path}/{training_data_file[i]}\"\u001b[0m\u001b[0;34m)\u001b[0m\u001b[0;34m\u001b[0m\u001b[0;34m\u001b[0m\u001b[0m\n\u001b[0m\u001b[1;32m      8\u001b[0m   \u001b[0mimg_tensor\u001b[0m \u001b[0;34m=\u001b[0m \u001b[0mtransform1\u001b[0m\u001b[0;34m(\u001b[0m\u001b[0mimg\u001b[0m\u001b[0;34m)\u001b[0m\u001b[0;34m\u001b[0m\u001b[0;34m\u001b[0m\u001b[0m\n\u001b[1;32m      9\u001b[0m   \u001b[0ma\u001b[0m \u001b[0;34m=\u001b[0m \u001b[0mtorch\u001b[0m\u001b[0;34m.\u001b[0m\u001b[0mcat\u001b[0m\u001b[0;34m(\u001b[0m\u001b[0;34m(\u001b[0m\u001b[0mtrain_dataset\u001b[0m\u001b[0;34m,\u001b[0m \u001b[0mimg_tensor\u001b[0m\u001b[0;34m)\u001b[0m\u001b[0;34m,\u001b[0m\u001b[0;36m0\u001b[0m\u001b[0;34m)\u001b[0m\u001b[0;34m\u001b[0m\u001b[0;34m\u001b[0m\u001b[0m\n",
            "\u001b[0;32m/usr/local/lib/python3.7/dist-packages/PIL/Image.py\u001b[0m in \u001b[0;36mopen\u001b[0;34m(fp, mode)\u001b[0m\n\u001b[1;32m   2850\u001b[0m         \u001b[0mexclusive_fp\u001b[0m \u001b[0;34m=\u001b[0m \u001b[0;32mTrue\u001b[0m\u001b[0;34m\u001b[0m\u001b[0;34m\u001b[0m\u001b[0m\n\u001b[1;32m   2851\u001b[0m \u001b[0;34m\u001b[0m\u001b[0m\n\u001b[0;32m-> 2852\u001b[0;31m     \u001b[0mprefix\u001b[0m \u001b[0;34m=\u001b[0m \u001b[0mfp\u001b[0m\u001b[0;34m.\u001b[0m\u001b[0mread\u001b[0m\u001b[0;34m(\u001b[0m\u001b[0;36m16\u001b[0m\u001b[0;34m)\u001b[0m\u001b[0;34m\u001b[0m\u001b[0;34m\u001b[0m\u001b[0m\n\u001b[0m\u001b[1;32m   2853\u001b[0m \u001b[0;34m\u001b[0m\u001b[0m\n\u001b[1;32m   2854\u001b[0m     \u001b[0mpreinit\u001b[0m\u001b[0;34m(\u001b[0m\u001b[0;34m)\u001b[0m\u001b[0;34m\u001b[0m\u001b[0;34m\u001b[0m\u001b[0m\n",
            "\u001b[0;31mKeyboardInterrupt\u001b[0m: "
          ]
        }
      ]
    }
  ]
}